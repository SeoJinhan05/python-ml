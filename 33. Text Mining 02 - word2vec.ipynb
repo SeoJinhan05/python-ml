{
 "cells": [
  {
   "cell_type": "code",
   "execution_count": 4,
   "metadata": {},
   "outputs": [],
   "source": [
    "import os\n",
    "os.environ[\"JAVA_HOME\"] = \"C:\\Program Files\\Java\\jdk1.8.0_121\\jre\"\n",
    "\n",
    "import nltk\n",
    "import konlpy\n",
    "from konlpy.corpus import kobill    \n",
    "from konlpy.tag import Twitter\n",
    "\n",
    "t = Twitter()\n",
    "\n",
    "docs_ko = [kobill.open(i).read() for i in kobill.fileids()]\n",
    "pos = lambda d: ['/'.join(p) for p in t.pos(d, stem=True, norm=True)]\n",
    "texts_ko = [pos(doc) for doc in docs_ko]"
   ]
  },
  {
   "cell_type": "code",
   "execution_count": 6,
   "metadata": {},
   "outputs": [
    {
     "name": "stderr",
     "output_type": "stream",
     "text": [
      "c:\\anaconda3\\envs\\spark\\lib\\site-packages\\gensim\\utils.py:860: UserWarning: detected Windows; aliasing chunkize to chunkize_serial\n",
      "  warnings.warn(\"detected Windows; aliasing chunkize to chunkize_serial\")\n"
     ]
    }
   ],
   "source": [
    "from gensim.models import word2vec\n",
    "wv_model_ko = word2vec.Word2Vec(texts_ko)\n",
    "wv_model_ko.init_sims(replace=True)\n",
    "wv_model_ko.save('ko_word2vec.model')"
   ]
  },
  {
   "cell_type": "code",
   "execution_count": 8,
   "metadata": {},
   "outputs": [
    {
     "data": {
      "text/plain": [
       "[('부대/Noun', 0.999666690826416),\n",
       " ('으로/Josa', 0.9996662735939026),\n",
       " ('등/Noun', 0.9996618032455444),\n",
       " ('파견/Noun', 0.9996616840362549),\n",
       " ('정/Noun', 0.9996508955955505),\n",
       " ('./Punctuation', 0.9996505975723267),\n",
       " ('그리고/Conjunction', 0.9996480941772461),\n",
       " ('및/Noun', 0.9996452331542969),\n",
       " (',/Punctuation', 0.9996433854103088),\n",
       " ('를/Josa', 0.9996431469917297)]"
      ]
     },
     "execution_count": 8,
     "metadata": {},
     "output_type": "execute_result"
    }
   ],
   "source": [
    "wv_model_ko.most_similar(pos('정부'))"
   ]
  },
  {
   "cell_type": "code",
   "execution_count": 9,
   "metadata": {},
   "outputs": [
    {
     "data": {
      "text/plain": [
       "[('자녀/Noun', 0.999687671661377),\n",
       " ('로/Josa', 0.9996576309204102),\n",
       " ('에서/Josa', 0.9996516704559326),\n",
       " ('6/Number', 0.9996508359909058),\n",
       " ('전/Noun', 0.9995948672294617),\n",
       " ('8/Number', 0.9995861053466797),\n",
       " ('｢/Foreign', 0.9995802640914917),\n",
       " ('”/Foreign', 0.9995699524879456),\n",
       " ('“/Foreign', 0.9995611906051636),\n",
       " ('또는/Adverb', 0.9995510578155518)]"
      ]
     },
     "execution_count": 9,
     "metadata": {},
     "output_type": "execute_result"
    }
   ],
   "source": [
    "wv_model_ko.most_similar(pos('초등학교'))"
   ]
  },
  {
   "cell_type": "code",
   "execution_count": null,
   "metadata": {
    "collapsed": true
   },
   "outputs": [],
   "source": []
  }
 ],
 "metadata": {
  "kernelspec": {
   "display_name": "Python 3",
   "language": "python",
   "name": "python3"
  },
  "language_info": {
   "codemirror_mode": {
    "name": "ipython",
    "version": 3
   },
   "file_extension": ".py",
   "mimetype": "text/x-python",
   "name": "python",
   "nbconvert_exporter": "python",
   "pygments_lexer": "ipython3",
   "version": "3.5.3"
  }
 },
 "nbformat": 4,
 "nbformat_minor": 2
}
